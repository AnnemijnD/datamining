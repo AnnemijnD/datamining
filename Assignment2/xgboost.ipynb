{
 "cells": [
  {
   "cell_type": "code",
   "execution_count": 1,
   "metadata": {},
   "outputs": [
    {
     "name": "stderr",
     "output_type": "stream",
     "text": [
      "c:\\users\\samve\\appdata\\local\\programs\\python\\python37\\lib\\site-packages\\sklearn\\externals\\six.py:31: FutureWarning: The module is deprecated in version 0.21 and will be removed in version 0.23 since we've dropped support for Python 2.7. Please rely on the official version of six (https://pypi.org/project/six/).\n",
      "  \"(https://pypi.org/project/six/).\", FutureWarning)\n"
     ]
    }
   ],
   "source": [
    "import xgboost as xgb\n",
    "import pandas as pd\n",
    "import numpy as np\n",
    "from xgboost import DMatrix\n",
    "from sklearn.datasets import load_svmlight_file, dump_svmlight_file\n",
    "from multiprocessing import Pool\n",
    "import pyltr"
   ]
  },
  {
   "cell_type": "code",
   "execution_count": 2,
   "metadata": {},
   "outputs": [],
   "source": [
    "df_test = pd.read_csv(\"data/test_prep_long3-all.csv\")\n",
    "df_train = pd.read_csv(\"data/train_prep_long3-all.csv\")"
   ]
  },
  {
   "cell_type": "code",
   "execution_count": 3,
   "metadata": {},
   "outputs": [],
   "source": [
    "uninteresting = [\"visitor_hist_starrating\", \"visitor_hist_adr_usd\", \"booking_bool\", \"click_bool\"]\n",
    "df_train.drop(uninteresting, axis=1, inplace=True)\n",
    "uninteresting = [\"visitor_hist_starrating\", \"visitor_hist_adr_usd\"]\n",
    "df_test.drop(uninteresting, axis=1, inplace=True)\n",
    "# predictors = [c for c in df_train.columns if c not in [\"prop_id\",\"srch_id\",\"booking_bool\",\\\n",
    "#                                 \"click_bool\",\"gross_bookings_usd\",\"position\", \"category\", \"visitor_hist_starrating\", \"visitor_hist_adr_usd\"]]\n",
    "# X_train = df_train[predictors]\n",
    "\n",
    "    # predicting columns of test set\n",
    "# cols = [col for col in df_test.columns if col not in ['prop_id', 'srch_id', \"visitor_hist_starrating\", \"visitor_hist_adr_usd\"]]\n",
    "# X_test = df_test[cols]"
   ]
  },
  {
   "cell_type": "code",
   "execution_count": 4,
   "metadata": {},
   "outputs": [],
   "source": [
    "def format(df, datatype):\n",
    "    df = df.sort_values(by='srch_id', ascending=False)\n",
    "    features = df[df.columns.tolist()].values\n",
    "    qid = df['srch_id'].values\n",
    "    if datatype == \"train\":\n",
    "        target = df['category'].values\n",
    "    else:\n",
    "        target = np.zeros(len(df))\n",
    "\n",
    "    return df, features, qid, target, df.columns.values.tolist()\n",
    "\n",
    "# train \n",
    "train, Xtr, qtr, ytr, feature_labels = format(df_train[df_train.srch_id % 10 != 0], \"train\")\n",
    "\n",
    "# validation\n",
    "vali, Xva, qva, yva, feature_labels = format(df_train[df_train.srch_id % 10 == 0], \"train\")\n",
    "\n",
    "# test\n",
    "test, Xte, qte, yte, feature_labels = format(df_test[df_test.srch_id % 10 == 0], \"test\")"
   ]
  },
  {
   "cell_type": "code",
   "execution_count": null,
   "metadata": {},
   "outputs": [],
   "source": [
    "comment = ' '.join(map(lambda t: '%d:%s' % t, zip(range(len(feature_labels)), feature_labels)))\n",
    "\n",
    "\n",
    "def dump(args):\n",
    "    x, y, filename, query_id, comment = args\n",
    "    dump_svmlight_file(x, y, filename, query_id=query_id, comment=comment, zero_based=False)\n",
    "\n",
    "p = Pool()\n",
    "p.map(dump, ((Xtr, ytr, 'data/train.svmlight', qtr, comment),\n",
    "             (Xva, yva, 'data/vali.svmlight', qva, comment),\n",
    "             (Xte, yte, 'data/test.svmlight', qte, comment)))"
   ]
  },
  {
   "cell_type": "code",
   "execution_count": null,
   "metadata": {},
   "outputs": [],
   "source": [
    "nwnw"
   ]
  },
  {
   "cell_type": "code",
   "execution_count": null,
   "metadata": {},
   "outputs": [],
   "source": [
    "metric = pyltr.metrics.NDCG(k=3)\n",
    "\n",
    "print(qva)\n",
    "\n",
    "# Only needed if you want to perform validation (early stopping & trimming)\n",
    "monitor = pyltr.models.monitors.ValidationMonitor(\n",
    "    Xva, yva, qva, metric=metric, stop_after=25)\n",
    "\n",
    "model = pyltr.models.LambdaMART(\n",
    "    metric=metric,\n",
    "    n_estimators=1000,\n",
    "    learning_rate=0.02,\n",
    "    max_features=0.5,\n",
    "    query_subsample=0.5,\n",
    "    max_leaf_nodes=10,\n",
    "    min_samples_leaf=64,\n",
    "    verbose=1,\n",
    ")\n",
    "\n",
    "model.fit(Xtr, ytr, qtr, monitor=monitor)"
   ]
  },
  {
   "cell_type": "code",
   "execution_count": null,
   "metadata": {},
   "outputs": [],
   "source": [
    "def dump_data(x, y, file_output):\n",
    "    datasets.dump_svmlight_file(x, y, file_output)\n",
    "    os.remove(\"%s_tmp\" % file_output)"
   ]
  },
  {
   "cell_type": "code",
   "execution_count": null,
   "metadata": {},
   "outputs": [],
   "source": [
    "#  This script demonstrate how to do ranking with xgboost.train\n"
   ]
  },
  {
   "cell_type": "code",
   "execution_count": null,
   "metadata": {},
   "outputs": [],
   "source": [
    "group_train = []\n",
    "with open(\"mq2008.train.group\", \"r\") as f:\n",
    "    data = f.readlines()\n",
    "    for line in data:\n",
    "        group_train.append(int(line.split(\"\\n\")[0]))\n",
    "\n",
    "group_valid = []\n",
    "with open(\"mq2008.vali.group\", \"r\") as f:\n",
    "    data = f.readlines()\n",
    "    for line in data:\n",
    "        group_valid.append(int(line.split(\"\\n\")[0]))\n",
    "\n",
    "group_test = []\n",
    "with open(\"mq2008.test.group\", \"r\") as f:\n",
    "    data = f.readlines()\n",
    "    for line in data:\n",
    "        group_test.append(int(line.split(\"\\n\")[0]))"
   ]
  },
  {
   "cell_type": "code",
   "execution_count": null,
   "metadata": {},
   "outputs": [],
   "source": [
    "\n",
    "\n",
    "train_dmatrix = DMatrix(Xtr, ytr)\n",
    "valid_dmatrix = DMatrix(Xva, yva)\n",
    "test_dmatrix = DMatrix(Xte)\n",
    "\n",
    "# train_dmatrix.set_group(\"train\")\n",
    "# valid_dmatrix.set_group(\"valid\")"
   ]
  },
  {
   "cell_type": "code",
   "execution_count": null,
   "metadata": {},
   "outputs": [],
   "source": [
    "params = {'objective': 'rank:ndcg', 'eta': 0.1, 'gamma': 1.0,\n",
    "          'min_child_weight': 0.1, 'max_depth': 6}\n",
    "xgb_model = xgb.train(params, train_dmatrix, num_boost_round=4,\n",
    "                      evals=[(valid_dmatrix, 'validation')])\n",
    "pred = xgb_model.predict(test_dmatrix)\n",
    "\n",
    "print(pred)"
   ]
  }
 ],
 "metadata": {
  "kernelspec": {
   "display_name": "Python 3",
   "language": "python",
   "name": "python3"
  },
  "language_info": {
   "codemirror_mode": {
    "name": "ipython",
    "version": 3
   },
   "file_extension": ".py",
   "mimetype": "text/x-python",
   "name": "python",
   "nbconvert_exporter": "python",
   "pygments_lexer": "ipython3",
   "version": "3.7.2"
  }
 },
 "nbformat": 4,
 "nbformat_minor": 2
}
