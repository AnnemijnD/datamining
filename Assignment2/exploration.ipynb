{
 "cells": [
  {
   "cell_type": "code",
   "execution_count": 1,
   "metadata": {},
   "outputs": [],
   "source": [
    "import pandas as pd\n",
    "import numpy as np\n",
    "import matplotlib.pyplot as plt\n",
    "import seaborn as sns\n",
    "from sklearn.preprocessing import StandardScaler\n",
    "from sklearn.feature_selection import SelectKBest, f_classif\n",
    "from IPython.display import display\n",
    "import time\n",
    "from tqdm import tqdm\n",
    "import random\n",
    "import math\n",
    "import timeit\n",
    "from numba import jit # does not work with pandas\n",
    "import time\n",
    "import seaborn as sns\n",
    "sns.set()"
   ]
  },
  {
   "cell_type": "code",
   "execution_count": 2,
   "metadata": {},
   "outputs": [],
   "source": [
    "df_train = pd.read_csv(\"data/training_set_VU_DM.csv\")\n",
    "df_test = pd.read_csv(\"data/test_set_VU_DM.csv\")"
   ]
  },
  {
   "cell_type": "code",
   "execution_count": 3,
   "metadata": {},
   "outputs": [
    {
     "name": "stdout",
     "output_type": "stream",
     "text": [
      "srch_id                              0\n",
      "date_time                            0\n",
      "site_id                              0\n",
      "visitor_location_country_id          0\n",
      "visitor_hist_starrating        4706481\n",
      "visitor_hist_adr_usd           4705359\n",
      "prop_country_id                      0\n",
      "prop_id                              0\n",
      "prop_starrating                      0\n",
      "prop_review_score                 7364\n",
      "prop_brand_bool                      0\n",
      "prop_location_score1                 0\n",
      "prop_location_score2           1090348\n",
      "prop_log_historical_price            0\n",
      "position                             0\n",
      "price_usd                            0\n",
      "promotion_flag                       0\n",
      "srch_destination_id                  0\n",
      "srch_length_of_stay                  0\n",
      "srch_booking_window                  0\n",
      "srch_adults_count                    0\n",
      "srch_children_count                  0\n",
      "srch_room_count                      0\n",
      "srch_saturday_night_bool             0\n",
      "srch_query_affinity_score      4640941\n",
      "orig_destination_distance      1607782\n",
      "random_bool                          0\n",
      "comp1_rate                     4838417\n",
      "comp1_inv                      4828788\n",
      "comp1_rate_percent_diff        4863908\n",
      "comp2_rate                     2933675\n",
      "comp2_inv                      2828078\n",
      "comp2_rate_percent_diff        4402109\n",
      "comp3_rate                     3424059\n",
      "comp3_inv                      3307357\n",
      "comp3_rate_percent_diff        4485550\n",
      "comp4_rate                     4650969\n",
      "comp4_inv                      4614684\n",
      "comp4_rate_percent_diff        4827261\n",
      "comp5_rate                     2735974\n",
      "comp5_inv                      2598327\n",
      "comp5_rate_percent_diff        4117248\n",
      "comp6_rate                     4718190\n",
      "comp6_inv                      4697371\n",
      "comp6_rate_percent_diff        4862173\n",
      "comp7_rate                     4642999\n",
      "comp7_inv                      4601925\n",
      "comp7_rate_percent_diff        4819832\n",
      "comp8_rate                     3041693\n",
      "comp8_inv                      2970844\n",
      "comp8_rate_percent_diff        4343617\n",
      "click_bool                           0\n",
      "gross_bookings_usd             4819957\n",
      "booking_bool                         0\n",
      "dtype: int64\n",
      "srch_id                              0\n",
      "date_time                            0\n",
      "site_id                              0\n",
      "visitor_location_country_id          0\n",
      "visitor_hist_starrating        4705752\n",
      "visitor_hist_adr_usd           4704559\n",
      "prop_country_id                      0\n",
      "prop_id                              0\n",
      "prop_starrating                      0\n",
      "prop_review_score                 7266\n",
      "prop_brand_bool                      0\n",
      "prop_location_score1                 0\n",
      "prop_location_score2           1088032\n",
      "prop_log_historical_price            0\n",
      "price_usd                            0\n",
      "promotion_flag                       0\n",
      "srch_destination_id                  0\n",
      "srch_length_of_stay                  0\n",
      "srch_booking_window                  0\n",
      "srch_adults_count                    0\n",
      "srch_children_count                  0\n",
      "srch_room_count                      0\n",
      "srch_saturday_night_bool             0\n",
      "srch_query_affinity_score      4641025\n",
      "orig_destination_distance      1608679\n",
      "random_bool                          0\n",
      "comp1_rate                     4843307\n",
      "comp1_inv                      4834309\n",
      "comp1_rate_percent_diff        4868715\n",
      "comp2_rate                     2943222\n",
      "comp2_inv                      2837914\n",
      "comp2_rate_percent_diff        4405574\n",
      "comp3_rate                     3434198\n",
      "comp3_inv                      3317952\n",
      "comp3_rate_percent_diff        4487973\n",
      "comp4_rate                     4646462\n",
      "comp4_inv                      4610375\n",
      "comp4_rate_percent_diff        4826056\n",
      "comp5_rate                     2737262\n",
      "comp5_inv                      2598370\n",
      "comp5_rate_percent_diff        4119276\n",
      "comp6_rate                     4716853\n",
      "comp6_inv                      4696014\n",
      "comp6_rate_percent_diff        4862045\n",
      "comp7_rate                     4643454\n",
      "comp7_inv                      4602430\n",
      "comp7_rate_percent_diff        4819860\n",
      "comp8_rate                     3056794\n",
      "comp8_inv                      2986298\n",
      "comp8_rate_percent_diff        4348206\n",
      "dtype: int64\n"
     ]
    }
   ],
   "source": [
    "train_nans = df_train.isnull().sum()\n",
    "print(train_nans)\n",
    "test_nans = df_test.isnull().sum()\n",
    "print(test_nans)"
   ]
  },
  {
   "cell_type": "code",
   "execution_count": 4,
   "metadata": {},
   "outputs": [
    {
     "ename": "NameError",
     "evalue": "name 'df_clicked' is not defined",
     "output_type": "error",
     "traceback": [
      "\u001b[1;31m---------------------------------------------------------------------------\u001b[0m",
      "\u001b[1;31mNameError\u001b[0m                                 Traceback (most recent call last)",
      "\u001b[1;32m<ipython-input-4-f5fce68cc70a>\u001b[0m in \u001b[0;36m<module>\u001b[1;34m()\u001b[0m\n\u001b[0;32m      4\u001b[0m \u001b[0mdf_booked_r\u001b[0m \u001b[1;33m=\u001b[0m \u001b[0mdf_rand\u001b[0m\u001b[1;33m.\u001b[0m\u001b[0mloc\u001b[0m\u001b[1;33m[\u001b[0m\u001b[0mdf_rand\u001b[0m\u001b[1;33m[\u001b[0m\u001b[1;34m\"booking_bool\"\u001b[0m\u001b[1;33m]\u001b[0m \u001b[1;33m==\u001b[0m \u001b[1;36m1\u001b[0m\u001b[1;33m]\u001b[0m\u001b[1;33m\u001b[0m\u001b[1;33m\u001b[0m\u001b[0m\n\u001b[0;32m      5\u001b[0m \u001b[0mdf_clicked_r\u001b[0m \u001b[1;33m=\u001b[0m \u001b[0mdf_train\u001b[0m\u001b[1;33m.\u001b[0m\u001b[0mloc\u001b[0m\u001b[1;33m[\u001b[0m\u001b[0mdf_train\u001b[0m\u001b[1;33m[\u001b[0m\u001b[1;34m\"booking_bool\"\u001b[0m\u001b[1;33m]\u001b[0m \u001b[1;33m==\u001b[0m \u001b[1;36m0\u001b[0m\u001b[1;33m]\u001b[0m\u001b[1;33m\u001b[0m\u001b[1;33m\u001b[0m\u001b[0m\n\u001b[1;32m----> 6\u001b[1;33m \u001b[0mdf_clicked_r\u001b[0m \u001b[1;33m=\u001b[0m \u001b[0mdf_clicked\u001b[0m\u001b[1;33m.\u001b[0m\u001b[0mloc\u001b[0m\u001b[1;33m[\u001b[0m\u001b[0mdf_clicked\u001b[0m\u001b[1;33m[\u001b[0m\u001b[1;34m\"click_bool\"\u001b[0m\u001b[1;33m]\u001b[0m \u001b[1;33m==\u001b[0m \u001b[1;36m1\u001b[0m\u001b[1;33m]\u001b[0m\u001b[1;33m\u001b[0m\u001b[1;33m\u001b[0m\u001b[0m\n\u001b[0m\u001b[0;32m      7\u001b[0m \u001b[1;33m\u001b[0m\u001b[0m\n\u001b[0;32m      8\u001b[0m \u001b[0mdf_booked\u001b[0m \u001b[1;33m=\u001b[0m \u001b[0mdf_booked\u001b[0m\u001b[1;33m[\u001b[0m\u001b[1;33m[\u001b[0m\u001b[1;34m\"srch_id\"\u001b[0m\u001b[1;33m,\u001b[0m \u001b[1;34m\"position\"\u001b[0m\u001b[1;33m]\u001b[0m\u001b[1;33m]\u001b[0m\u001b[1;33m\u001b[0m\u001b[1;33m\u001b[0m\u001b[0m\n",
      "\u001b[1;31mNameError\u001b[0m: name 'df_clicked' is not defined"
     ]
    }
   ],
   "source": [
    "df_rand = df_train.loc[df_train[\"random_bool\"] == 1]\n",
    "df_nonrand = df_train.loc[df_train[\"random_bool\"] == 0]\n",
    "\n",
    "df_booked_r = df_rand.loc[df_rand[\"booking_bool\"] == 1]\n",
    "df_clicked_r = df_train.loc[df_train[\"booking_bool\"] == 0]\n",
    "df_clicked_r = df_clicked_r.loc[df_clicked[\"click_bool\"] == 1]\n",
    "\n",
    "df_booked = df_booked[[\"srch_id\", \"position\"]]\n",
    "df_clicked = df_clicked[[\"srch_id\", \"position\"]]"
   ]
  },
  {
   "cell_type": "code",
   "execution_count": null,
   "metadata": {},
   "outputs": [],
   "source": [
    "book_pos_count = df_booked.groupby(\"position\").count()\n",
    "click_pos_count = df_clicked.groupby(\"position\").count()"
   ]
  },
  {
   "cell_type": "code",
   "execution_count": null,
   "metadata": {},
   "outputs": [],
   "source": [
    "book_range = np.arange(1,len(book_pos_count)+1)\n",
    "print([i for i in range(1,41)])\n",
    "click_range = np.arange(1.5,len(click_pos_count)+1)\n",
    "print([i + .5 for i in range(1,41)])\n",
    "sns.set_context(\"talk\")\n",
    "plt.bar(book_range, book_pos_count.iloc[:,0], .5, label=\"booked\")\n",
    "plt.bar(click_range, click_pos_count.iloc[:,0], .5, label=\"clicked\")\n",
    "plt.title(\"Booked and clicked items per position\")\n",
    "plt.xlabel(\"Position\")\n",
    "plt.ylabel(\"Amount\")\n",
    "plt.legend()"
   ]
  },
  {
   "cell_type": "code",
   "execution_count": 5,
   "metadata": {},
   "outputs": [
    {
     "name": "stdout",
     "output_type": "stream",
     "text": [
      "[     1      4      6 ... 332782 332784 332785]\n"
     ]
    }
   ],
   "source": [
    "unique_train = df_train.srch_id.unique()\n",
    "print(unique_train)"
   ]
  },
  {
   "cell_type": "code",
   "execution_count": null,
   "metadata": {},
   "outputs": [],
   "source": [
    "df['rank'] = df_train.groupby('srch_id')['category'].rank(ascending=False)"
   ]
  }
 ],
 "metadata": {
  "kernelspec": {
   "display_name": "Python 3",
   "language": "python",
   "name": "python3"
  },
  "language_info": {
   "codemirror_mode": {
    "name": "ipython",
    "version": 3
   },
   "file_extension": ".py",
   "mimetype": "text/x-python",
   "name": "python",
   "nbconvert_exporter": "python",
   "pygments_lexer": "ipython3",
   "version": "3.7.2"
  }
 },
 "nbformat": 4,
 "nbformat_minor": 2
}
