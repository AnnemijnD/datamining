{
 "cells": [
  {
   "cell_type": "code",
   "execution_count": 1,
   "metadata": {},
   "outputs": [],
   "source": [
    "import pandas as pd\n",
    "import numpy as np\n",
    "import matplotlib.pyplot as plt\n",
    "import seaborn as sns\n",
    "from sklearn.preprocessing import StandardScaler\n",
    "from sklearn.feature_selection import SelectKBest, f_classif\n",
    "from IPython.display import display\n",
    "import time\n",
    "from tqdm import tqdm\n",
    "import random\n",
    "import math\n",
    "import timeit\n",
    "from numba import jit # does not work with pandas\n",
    "import time\n",
    "import seaborn as sns\n",
    "sns.set()"
   ]
  },
  {
   "cell_type": "code",
   "execution_count": null,
   "metadata": {},
   "outputs": [],
   "source": [
    "df_train = pd.read_csv(\"data/training_set_VU_DM.csv\")\n",
    "df_test = pd.read_csv(\"data/test_set_VU_DM.csv\")"
   ]
  },
  {
   "cell_type": "code",
   "execution_count": null,
   "metadata": {},
   "outputs": [],
   "source": [
    "train_nans = df_train.isnull().sum()\n",
    "print(train_nans)\n",
    "test_nans = df_test.isnull().sum()\n",
    "print(test_nans)"
   ]
  },
  {
   "cell_type": "code",
   "execution_count": null,
   "metadata": {},
   "outputs": [],
   "source": [
    "df_rand = df_train.loc[df_train[\"random_bool\"] == 1]\n",
    "df_nonrand = df_train.loc[df_train[\"random_bool\"] == 0]\n",
    "\n",
    "df_booked_r = df_rand.loc[df_rand[\"booking_bool\"] == 1]\n",
    "df_clicked_r = df_train.loc[df_train[\"booking_bool\"] == 0]\n",
    "df_clicked_r = df_clicked_r.loc[df_clicked[\"click_bool\"] == 1]\n",
    "\n",
    "df_booked = df_booked[[\"srch_id\", \"position\"]]\n",
    "df_clicked = df_clicked[[\"srch_id\", \"position\"]]"
   ]
  },
  {
   "cell_type": "code",
   "execution_count": null,
   "metadata": {},
   "outputs": [],
   "source": [
    "book_pos_count = df_booked.groupby(\"position\").count()\n",
    "click_pos_count = df_clicked.groupby(\"position\").count()"
   ]
  },
  {
   "cell_type": "code",
   "execution_count": null,
   "metadata": {},
   "outputs": [],
   "source": [
    "book_range = np.arange(1,len(book_pos_count)+1)\n",
    "print([i for i in range(1,41)])\n",
    "click_range = np.arange(1.5,len(click_pos_count)+1)\n",
    "print([i + .5 for i in range(1,41)])\n",
    "sns.set_context(\"talk\")\n",
    "plt.bar(book_range, book_pos_count.iloc[:,0], .5, label=\"booked\")\n",
    "plt.bar(click_range, click_pos_count.iloc[:,0], .5, label=\"clicked\")\n",
    "plt.title(\"Booked and clicked items per position\")\n",
    "plt.xlabel(\"Position\")\n",
    "plt.ylabel(\"Amount\")\n",
    "plt.legend()"
   ]
  },
  {
   "cell_type": "code",
   "execution_count": null,
   "metadata": {},
   "outputs": [],
   "source": [
    "unique_train = df_train.srch_id.unique()\n",
    "print(unique_train)"
   ]
  },
  {
   "cell_type": "code",
   "execution_count": null,
   "metadata": {},
   "outputs": [],
   "source": [
    "df['rank'] = df_train.groupby('srch_id')['category'].rank(ascending=False)"
   ]
  }
 ],
 "metadata": {
  "kernelspec": {
   "display_name": "Python 3",
   "language": "python",
   "name": "python3"
  },
  "language_info": {
   "codemirror_mode": {
    "name": "ipython",
    "version": 3
   },
   "file_extension": ".py",
   "mimetype": "text/x-python",
   "name": "python",
   "nbconvert_exporter": "python",
   "pygments_lexer": "ipython3",
   "version": "3.7.2"
  }
 },
 "nbformat": 4,
 "nbformat_minor": 2
}
